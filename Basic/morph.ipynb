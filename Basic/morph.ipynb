{
 "cells": [
  {
   "cell_type": "code",
   "execution_count": null,
   "id": "e7152fb0",
   "metadata": {},
   "outputs": [
    {
     "name": "stderr",
     "output_type": "stream",
     "text": [
      "usage: ipykernel_launcher.py [-h] [--input INPUT]\n",
      "ipykernel_launcher.py: error: unrecognized arguments: --f=c:\\Users\\Admin\\AppData\\Roaming\\jupyter\\runtime\\kernel-v3351b82c740cc3900ede55bd133f7cbda8a0f55ff.json\n"
     ]
    },
    {
     "ename": "SystemExit",
     "evalue": "2",
     "output_type": "error",
     "traceback": [
      "An exception has occurred, use %tb to see the full traceback.\n",
      "\u001b[31mSystemExit\u001b[39m\u001b[31m:\u001b[39m 2\n"
     ]
    },
    {
     "name": "stderr",
     "output_type": "stream",
     "text": [
      "C:\\Users\\Admin\\AppData\\Roaming\\Python\\Python313\\site-packages\\IPython\\core\\interactiveshell.py:3675: UserWarning: To exit: use 'exit', 'quit', or Ctrl-D.\n",
      "  warn(\"To exit: use 'exit', 'quit', or Ctrl-D.\", stacklevel=1)\n"
     ]
    }
   ],
   "source": [
    "from __future__ import print_function\n",
    "import cv2 as cv\n",
    "import numpy as np\n",
    "import argparse\n",
    "\n",
    "src = None\n",
    "erosion_size = 0\n",
    "max_elem = 2\n",
    "max_kernel_size = 21\n",
    "title_trackbar_element_shape = 'Element:\\n 0: Rect \\n 1: Cross \\n 2: Ellipse'\n",
    "title_trackbar_kernel_size = 'Kernel size:\\n 2n +1'\n",
    "title_erosion_window = 'Erosion Demo'\n",
    "title_dilation_window = 'Dilation Demo'\n",
    " \n",
    " \n",
    " \n",
    "def main(image):\n",
    "    global src\n",
    "    src = cv.imread(cv.samples.findFile(image))\n",
    "    if src is None:\n",
    "        print('Could not open or find the image: ', image)\n",
    "        exit(0)\n",
    " \n",
    "    cv.namedWindow(title_erosion_window)\n",
    "    cv.createTrackbar(title_trackbar_element_shape, title_erosion_window, 0, max_elem, erosion)\n",
    "    cv.createTrackbar(title_trackbar_kernel_size, title_erosion_window, 0, max_kernel_size, erosion)\n",
    " \n",
    "    cv.namedWindow(title_dilation_window)\n",
    "    cv.createTrackbar(title_trackbar_element_shape, title_dilation_window, 0, max_elem, dilatation)\n",
    "    cv.createTrackbar(title_trackbar_kernel_size, title_dilation_window, 0, max_kernel_size, dilatation)\n",
    " \n",
    "    erosion(0)\n",
    "    dilatation(0)\n",
    "    cv.waitKey()\n",
    " \n",
    " \n",
    "# optional mapping of values with morphological shapes\n",
    "def morph_shape(val):\n",
    "    if val == 0:\n",
    "        return cv.MORPH_RECT\n",
    "    elif val == 1:\n",
    "        return cv.MORPH_CROSS\n",
    "    elif val == 2:\n",
    "        return cv.MORPH_ELLIPSE\n",
    " \n",
    " \n",
    " \n",
    "def erosion(val):\n",
    "    erosion_size = cv.getTrackbarPos(title_trackbar_kernel_size, title_erosion_window)\n",
    "    erosion_shape = morph_shape(cv.getTrackbarPos(title_trackbar_element_shape, title_erosion_window))\n",
    " \n",
    "    \n",
    "    element = cv.getStructuringElement(erosion_shape, (2 * erosion_size + 1, 2 * erosion_size + 1),\n",
    "                                       (erosion_size, erosion_size))\n",
    "    \n",
    "    erosion_dst = cv.erode(src, element)\n",
    "    cv.imshow(title_erosion_window, erosion_dst)\n",
    " \n",
    " \n",
    " \n",
    " \n",
    "def dilatation(val):\n",
    "    dilatation_size = cv.getTrackbarPos(title_trackbar_kernel_size, title_dilation_window)\n",
    "    dilation_shape = morph_shape(cv.getTrackbarPos(title_trackbar_element_shape, title_dilation_window))\n",
    " \n",
    "    element = cv.getStructuringElement(dilation_shape, (2 * dilatation_size + 1, 2 * dilatation_size + 1),\n",
    "                                       (dilatation_size, dilatation_size))\n",
    "    dilatation_dst = cv.dilate(src, element)\n",
    "    cv.imshow(title_dilation_window, dilatation_dst)\n",
    " \n",
    " \n",
    " \n",
    "if __name__ == \"__main__\":\n",
    "    parser = argparse.ArgumentParser(description='Code for Eroding and Dilating tutorial.')\n",
    "    parser.add_argument('--input', help='Path to input image.', default='LinuxLogo.jpg')\n",
    "    args = parser.parse_args()\n",
    " \n",
    "    main(args.input)"
   ]
  },
  {
   "cell_type": "code",
   "execution_count": 25,
   "id": "796a5971",
   "metadata": {},
   "outputs": [],
   "source": [
    "import cv2\n",
    "import numpy as np\n",
    "\n",
    "image = cv2.imread('dog.jpg')\n",
    "\n",
    "kernel = np.ones((5, 5), np.uint8)\n",
    "\n",
    "image = cv2.dilate(image, kernel)\n",
    "\n",
    "cv2.imshow('Image', image)  \n",
    "cv2.waitKey(0)\n",
    "cv2.destroyAllWindows()"
   ]
  },
  {
   "cell_type": "code",
   "execution_count": 44,
   "id": "e8d81a4c",
   "metadata": {},
   "outputs": [
    {
     "data": {
      "text/plain": [
       "-1"
      ]
     },
     "execution_count": 44,
     "metadata": {},
     "output_type": "execute_result"
    }
   ],
   "source": [
    "from __future__ import print_function\n",
    "import cv2 as cv\n",
    "import numpy as np\n",
    "import argparse\n",
    " \n",
    "morph_size = 0\n",
    "max_operator = 4\n",
    "max_elem = 2\n",
    "max_kernel_size = 21\n",
    "title_trackbar_operator_type = 'Operator:\\n 0: Opening - 1: Closing  \\n 2: Gradient - 3: Top Hat \\n 4: Black Hat'\n",
    "title_trackbar_element_type = 'Element:\\n 0: Rect - 1: Cross - 2: Ellipse'\n",
    "title_trackbar_kernel_size = 'Kernel size:\\n 2n + 1'\n",
    "title_window = 'Morphology Transformations Demo'\n",
    "morph_op_dic = {0: cv.MORPH_OPEN, 1: cv.MORPH_CLOSE, 2: cv.MORPH_GRADIENT, 3: cv.MORPH_TOPHAT, 4: cv.MORPH_BLACKHAT}\n",
    " \n",
    "def morphology_operations(val):\n",
    "    morph_operator = cv.getTrackbarPos(title_trackbar_operator_type, title_window)\n",
    "    morph_size = cv.getTrackbarPos(title_trackbar_kernel_size, title_window)\n",
    "    morph_elem = 0\n",
    "    val_type = cv.getTrackbarPos(title_trackbar_element_type, title_window)\n",
    "    if val_type == 0:\n",
    "        morph_elem = cv.MORPH_RECT\n",
    "    elif val_type == 1:\n",
    "        morph_elem = cv.MORPH_CROSS\n",
    "    elif val_type == 2:\n",
    "        morph_elem = cv.MORPH_ELLIPSE\n",
    " \n",
    "    element = cv.getStructuringElement(morph_elem, (2*morph_size + 1, 2*morph_size+1), (morph_size, morph_size))\n",
    "    operation = morph_op_dic[morph_operator]\n",
    "    dst = cv.morphologyEx(src, operation, element)\n",
    "    cv.imshow(title_window, dst)\n",
    " \n",
    "#parser = argparse.ArgumentParser(description='Code for More Morphology Transformations tutorial.')\n",
    "#parser.add_argument('--input', help='dog.jpg', default='dog.jpg')\n",
    "#args = parser.parse_args()\n",
    " \n",
    "src = cv.imread('dog.jpg')\n",
    "if src is None:\n",
    "    print('Could not open or find the image: ', args.input)\n",
    "    exit(0)\n",
    " \n",
    "cv.namedWindow(title_window)\n",
    "cv.createTrackbar(title_trackbar_operator_type, title_window , 0, max_operator, morphology_operations)\n",
    "cv.createTrackbar(title_trackbar_element_type, title_window , 0, max_elem, morphology_operations)\n",
    "cv.createTrackbar(title_trackbar_kernel_size, title_window , 0, max_kernel_size, morphology_operations)\n",
    " \n",
    "morphology_operations(0)\n",
    "cv.waitKey()"
   ]
  },
  {
   "cell_type": "code",
   "execution_count": 66,
   "id": "d399b3b1",
   "metadata": {},
   "outputs": [],
   "source": [
    "import cv2\n",
    "import numpy as np\n",
    "\n",
    "image = cv2.imread('dog.jpg')\n",
    "\n",
    "kernel = np.ones((5, 5), np.uint8)\n",
    "\n",
    "opening = cv2.morphologyEx(image, cv2.MORPH_OPEN, kernel)\n",
    "closing = cv2.morphologyEx(image, cv2.MORPH_CLOSE, kernel)\n",
    "gradient = cv2.morphologyEx(image, cv.MORPH_GRADIENT, kernel)\n",
    "tophat = cv2.morphologyEx(image, cv2.MORPH_TOPHAT, kernel)\n",
    "blackhat = cv2.morphologyEx(image, cv2.MORPH_BLACKHAT, kernel)\n",
    "\n",
    "cv2.imshow('Image', blackhat)  \n",
    "cv2.waitKey(0)\n",
    "cv2.destroyAllWindows()"
   ]
  }
 ],
 "metadata": {
  "kernelspec": {
   "display_name": "Python 3",
   "language": "python",
   "name": "python3"
  },
  "language_info": {
   "codemirror_mode": {
    "name": "ipython",
    "version": 3
   },
   "file_extension": ".py",
   "mimetype": "text/x-python",
   "name": "python",
   "nbconvert_exporter": "python",
   "pygments_lexer": "ipython3",
   "version": "3.13.2"
  }
 },
 "nbformat": 4,
 "nbformat_minor": 5
}
