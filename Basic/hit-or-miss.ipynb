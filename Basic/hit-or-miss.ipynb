{
 "cells": [
  {
   "cell_type": "code",
   "execution_count": 8,
   "id": "7c9d3742",
   "metadata": {},
   "outputs": [],
   "source": [
    "import cv2 as cv\n",
    "import numpy as np\n",
    " \n",
    "input_image = np.array((\n",
    "    [0, 255, 255, 255, 255, 0, 0, 0],\n",
    "    [0, 255, 255, 255, 255, 0, 0, 0],\n",
    "    [0, 255, 255, 255, 255, 0, 0, 0],\n",
    "    [0, 255, 255, 255, 255, 0, 0, 0],\n",
    "    [0, 0, 255, 255, 255, 0, 0, 0],\n",
    "    [0, 0, 0, 255, 0, 0, 0, 0],\n",
    "    [0,0, 0, 255, 0, 0, 0, 0],\n",
    "    [0, 0, 0, 255, 0, 0, 0, 0]), dtype=\"uint8\")\n",
    " \n",
    "kernel = np.array((\n",
    "        [0, -1, 0],\n",
    "        [1, 1, 1],\n",
    "        [0, 1, 0]), dtype=\"int\")\n",
    "\n",
    "output_image = cv.morphologyEx(input_image, cv.MORPH_HITMISS, kernel)\n",
    " \n",
    "rate = 50\n",
    "kernel = (kernel + 1) * 127\n",
    "kernel = np.uint8(kernel)\n",
    " \n",
    "kernel = cv.resize(kernel, None, fx = rate, fy = rate, interpolation = cv.INTER_NEAREST)\n",
    "cv.imshow(\"kernel\", kernel)\n",
    "cv.moveWindow(\"kernel\", 0, 0)\n",
    " \n",
    "input_image = cv.resize(input_image, None, fx = rate, fy = rate, interpolation = cv.INTER_NEAREST)\n",
    "cv.imshow(\"Original\", input_image)\n",
    "cv.moveWindow(\"Original\", 0, 200)\n",
    " \n",
    "output_image = cv.resize(output_image, None , fx = rate, fy = rate, interpolation = cv.INTER_NEAREST)\n",
    "cv.imshow(\"Hit or Miss\", output_image)\n",
    "cv.moveWindow(\"Hit or Miss\", 500, 200)\n",
    " \n",
    "cv.waitKey(0)\n",
    "cv.destroyAllWindows()"
   ]
  },
  {
   "cell_type": "code",
   "execution_count": null,
   "id": "be4817f8",
   "metadata": {},
   "outputs": [],
   "source": []
  }
 ],
 "metadata": {
  "kernelspec": {
   "display_name": "Python 3",
   "language": "python",
   "name": "python3"
  },
  "language_info": {
   "codemirror_mode": {
    "name": "ipython",
    "version": 3
   },
   "file_extension": ".py",
   "mimetype": "text/x-python",
   "name": "python",
   "nbconvert_exporter": "python",
   "pygments_lexer": "ipython3",
   "version": "3.13.2"
  }
 },
 "nbformat": 4,
 "nbformat_minor": 5
}
