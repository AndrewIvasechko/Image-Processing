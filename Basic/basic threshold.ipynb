{
 "cells": [
  {
   "cell_type": "code",
   "execution_count": 4,
   "id": "6f70568b",
   "metadata": {},
   "outputs": [
    {
     "ename": "error",
     "evalue": "OpenCV(4.11.0) D:\\a\\opencv-python\\opencv-python\\opencv\\modules\\highgui\\src\\window.cpp:868: error: (-215:Assertion failed) trackbar in function 'cv::getTrackbarPos'\n",
     "output_type": "error",
     "traceback": [
      "\u001b[31m---------------------------------------------------------------------------\u001b[39m",
      "\u001b[31merror\u001b[39m                                     Traceback (most recent call last)",
      "\u001b[36mCell\u001b[39m\u001b[36m \u001b[39m\u001b[32mIn[4]\u001b[39m\u001b[32m, line 19\u001b[39m, in \u001b[36mThreshold_Demo\u001b[39m\u001b[34m(val)\u001b[39m\n\u001b[32m     12\u001b[39m \u001b[38;5;28;01mdef\u001b[39;00m\u001b[38;5;250m \u001b[39m\u001b[34mThreshold_Demo\u001b[39m(val):\n\u001b[32m     13\u001b[39m     \u001b[38;5;66;03m#0: Binary\u001b[39;00m\n\u001b[32m     14\u001b[39m     \u001b[38;5;66;03m#1: Binary Inverted\u001b[39;00m\n\u001b[32m     15\u001b[39m     \u001b[38;5;66;03m#2: Threshold Truncated\u001b[39;00m\n\u001b[32m     16\u001b[39m     \u001b[38;5;66;03m#3: Threshold to Zero\u001b[39;00m\n\u001b[32m     17\u001b[39m     \u001b[38;5;66;03m#4: Threshold to Zero Inverted\u001b[39;00m\n\u001b[32m     18\u001b[39m     threshold_type = cv.getTrackbarPos(trackbar_type, window_name)\n\u001b[32m---> \u001b[39m\u001b[32m19\u001b[39m     threshold_value = \u001b[43mcv\u001b[49m\u001b[43m.\u001b[49m\u001b[43mgetTrackbarPos\u001b[49m\u001b[43m(\u001b[49m\u001b[43mtrackbar_value\u001b[49m\u001b[43m,\u001b[49m\u001b[43m \u001b[49m\u001b[43mwindow_name\u001b[49m\u001b[43m)\u001b[49m\n\u001b[32m     20\u001b[39m     _, dst = cv.threshold(src_gray, threshold_value, max_binary_value, threshold_type )\n\u001b[32m     21\u001b[39m     cv.imshow(window_name, dst)\n",
      "\u001b[31merror\u001b[39m: OpenCV(4.11.0) D:\\a\\opencv-python\\opencv-python\\opencv\\modules\\highgui\\src\\window.cpp:868: error: (-215:Assertion failed) trackbar in function 'cv::getTrackbarPos'\n"
     ]
    },
    {
     "data": {
      "text/plain": [
       "-1"
      ]
     },
     "execution_count": 4,
     "metadata": {},
     "output_type": "execute_result"
    }
   ],
   "source": [
    "from __future__ import print_function\n",
    "import cv2 as cv\n",
    "import argparse\n",
    "\n",
    "max_value = 255\n",
    "max_type = 4\n",
    "max_binary_value = 255\n",
    "trackbar_type = 'Type: \\n 0: Binary \\n 1: Binary Inverted \\n 2: Truncate \\n 3: To Zero \\n 4: To Zero Inverted'\n",
    "trackbar_value = 'Value'\n",
    "window_name = 'Threshold Demo'\n",
    "\n",
    "def Threshold_Demo(val):\n",
    "    #0: Binary\n",
    "    #1: Binary Inverted\n",
    "    #2: Threshold Truncated\n",
    "    #3: Threshold to Zero\n",
    "    #4: Threshold to Zero Inverted\n",
    "    threshold_type = cv.getTrackbarPos(trackbar_type, window_name)\n",
    "    threshold_value = cv.getTrackbarPos(trackbar_value, window_name)\n",
    "    _, dst = cv.threshold(src_gray, threshold_value, max_binary_value, threshold_type )\n",
    "    cv.imshow(window_name, dst)\n",
    "\n",
    "\n",
    "\n",
    "src = cv.imread('dog.jpg')\n",
    "if src is None:\n",
    "    print('Could not open or find the image: ', args.input)\n",
    "    exit(0)\n",
    "# Convert the image to Gray\n",
    "src_gray = cv.cvtColor(src, cv.COLOR_BGR2GRAY)\n",
    "\n",
    "cv.namedWindow(window_name)\n",
    "\n",
    "cv.createTrackbar(trackbar_type, window_name , 3, max_type, Threshold_Demo)\n",
    "# Create Trackbar to choose Threshold value\n",
    "cv.createTrackbar(trackbar_value, window_name , 0, max_value, Threshold_Demo)\n",
    "\n",
    "# Call the function to initialize\n",
    "Threshold_Demo(0)\n",
    "# Wait until user finishes program\n",
    "cv.waitKey()"
   ]
  }
 ],
 "metadata": {
  "kernelspec": {
   "display_name": "Python 3",
   "language": "python",
   "name": "python3"
  },
  "language_info": {
   "codemirror_mode": {
    "name": "ipython",
    "version": 3
   },
   "file_extension": ".py",
   "mimetype": "text/x-python",
   "name": "python",
   "nbconvert_exporter": "python",
   "pygments_lexer": "ipython3",
   "version": "3.13.2"
  }
 },
 "nbformat": 4,
 "nbformat_minor": 5
}
