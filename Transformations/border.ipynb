{
 "cells": [
  {
   "cell_type": "code",
   "execution_count": 1,
   "id": "38e237f4",
   "metadata": {},
   "outputs": [
    {
     "name": "stdout",
     "output_type": "stream",
     "text": [
      "\n",
      "\t   copyMakeBorder Demo: \n",
      "     -------------------- \n",
      " ** Press 'c' to set the border to a random constant value \n",
      " ** Press 'r' to set the border to be replicated \n",
      " ** Press 'ESC' to exit the program \n"
     ]
    }
   ],
   "source": [
    "\"\"\"\n",
    "@file copy_make_border.py\n",
    "@brief Sample code that shows the functionality of copyMakeBorder\n",
    "\"\"\"\n",
    "import sys\n",
    "from random import randint\n",
    "import cv2 as cv\n",
    "\n",
    "def main(argv):\n",
    "\n",
    "    borderType = cv.BORDER_CONSTANT\n",
    "    window_name = \"copyMakeBorder Demo\"\n",
    "\n",
    "    imageName = argv[0] if len(argv) > 0 else 'lena.jpg'\n",
    "\n",
    "    # Loads an image\n",
    "    src = cv.imread(cv.samples.findFile(imageName), cv.IMREAD_COLOR)\n",
    "\n",
    "    # Check if image is loaded fine\n",
    "    if src is None:\n",
    "        print ('Error opening image!')\n",
    "        print ('Usage: copy_make_border.py [image_name -- default lena.jpg] \\n')\n",
    "        return -1\n",
    "\n",
    "    print ('\\n'\n",
    "           '\\t   copyMakeBorder Demo: \\n'\n",
    "           '     -------------------- \\n'\n",
    "           ' ** Press \\'c\\' to set the border to a random constant value \\n'\n",
    "           ' ** Press \\'r\\' to set the border to be replicated \\n'\n",
    "           ' ** Press \\'ESC\\' to exit the program ')\n",
    "\n",
    "    cv.namedWindow(window_name, cv.WINDOW_AUTOSIZE)\n",
    "\n",
    "    top = int(0.05 * src.shape[0])  # shape[0] = rows\n",
    "    bottom = top\n",
    "    left = int(0.05 * src.shape[1])  # shape[1] = cols\n",
    "    right = left\n",
    "\n",
    "    while 1:\n",
    "\n",
    "        value = [randint(0, 255), randint(0, 255), randint(0, 255)]\n",
    "\n",
    "        dst = cv.copyMakeBorder(src, top, bottom, left, right, borderType, None, value)\n",
    "\n",
    "        cv.imshow(window_name, dst)\n",
    "\n",
    "        c = cv.waitKey(500)\n",
    "\n",
    "        if c == 27:\n",
    "            break\n",
    "        elif c == 99: # 99 = ord('c')\n",
    "            borderType = cv.BORDER_CONSTANT\n",
    "        elif c == 114: # 114 = ord('r')\n",
    "            borderType = cv.BORDER_REPLICATE\n",
    "\n",
    "    return 0\n",
    "\n",
    "if __name__ == \"__main__\":\n",
    "    main(['D:/Projects/CV2/Image-Processing/Basic/dog.jpg'])"
   ]
  },
  {
   "cell_type": "code",
   "execution_count": 8,
   "id": "aabb305e",
   "metadata": {},
   "outputs": [],
   "source": [
    "import cv2  \n",
    "\n",
    "image = cv2.imread('D:/Projects/CV2/Image-Processing/Basic/dog.jpg') \n",
    "  \n",
    "image = cv2.copyMakeBorder(image, 10, 10, 10, 10, cv2.BORDER_CONSTANT, None, value = (255,1,5)) \n",
    "  \n",
    "cv2.imshow('border', image) \n",
    "cv2.waitKey(0)\n",
    "cv2.destroyAllWindows()"
   ]
  },
  {
   "cell_type": "code",
   "execution_count": 15,
   "id": "c8bbcc3a",
   "metadata": {},
   "outputs": [],
   "source": [
    "import cv2  \n",
    "\n",
    "image = cv2.imread('D:/Projects/CV2/Image-Processing/Basic/dog.jpg') \n",
    "  \n",
    "image = cv2.copyMakeBorder(image, 100, 100, 100, 100, cv2.BORDER_REPLICATE, None) \n",
    "  \n",
    "cv2.imshow('border', image) \n",
    "cv2.waitKey(0)\n",
    "cv2.destroyAllWindows()"
   ]
  }
 ],
 "metadata": {
  "kernelspec": {
   "display_name": "Python 3",
   "language": "python",
   "name": "python3"
  },
  "language_info": {
   "codemirror_mode": {
    "name": "ipython",
    "version": 3
   },
   "file_extension": ".py",
   "mimetype": "text/x-python",
   "name": "python",
   "nbconvert_exporter": "python",
   "pygments_lexer": "ipython3",
   "version": "3.13.2"
  }
 },
 "nbformat": 4,
 "nbformat_minor": 5
}
