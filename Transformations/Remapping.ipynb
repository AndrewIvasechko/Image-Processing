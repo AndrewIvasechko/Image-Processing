{
 "cells": [
  {
   "cell_type": "code",
   "execution_count": null,
   "id": "ef9d5877",
   "metadata": {},
   "outputs": [
    {
     "ename": "",
     "evalue": "",
     "output_type": "error",
     "traceback": [
      "\u001b[1;31mThe Kernel crashed while executing code in the current cell or a previous cell. \n",
      "\u001b[1;31mPlease review the code in the cell(s) to identify a possible cause of the failure. \n",
      "\u001b[1;31mClick <a href='https://aka.ms/vscodeJupyterKernelCrash'>here</a> for more info. \n",
      "\u001b[1;31mView Jupyter <a href='command:jupyter.viewOutput'>log</a> for further details."
     ]
    }
   ],
   "source": [
    "from __future__ import print_function\n",
    "import cv2 as cv\n",
    "import numpy as np\n",
    "import argparse\n",
    "\n",
    "def update_map(ind, map_x, map_y):\n",
    "    if ind == 0:\n",
    "        for i in range(map_x.shape[0]):\n",
    "            for j in range(map_x.shape[1]):\n",
    "                if j > map_x.shape[1]*0.25 and j < map_x.shape[1]*0.75 and i > map_x.shape[0]*0.25 and i < map_x.shape[0]*0.75:\n",
    "                    map_x[i,j] = 2 * (j-map_x.shape[1]*0.25) + 0.5\n",
    "                    map_y[i,j] = 2 * (i-map_y.shape[0]*0.25) + 0.5\n",
    "                else:\n",
    "                    map_x[i,j] = 0\n",
    "                    map_y[i,j] = 0\n",
    "    elif ind == 1:\n",
    "        for i in range(map_x.shape[0]):\n",
    "            map_x[i,:] = [x for x in range(map_x.shape[1])]\n",
    "        for j in range(map_y.shape[1]):\n",
    "            map_y[:,j] = [map_y.shape[0]-y for y in range(map_y.shape[0])]\n",
    "    elif ind == 2:\n",
    "        for i in range(map_x.shape[0]):\n",
    "            map_x[i,:] = [map_x.shape[1]-x for x in range(map_x.shape[1])]\n",
    "        for j in range(map_y.shape[1]):\n",
    "            map_y[:,j] = [y for y in range(map_y.shape[0])]\n",
    "    elif ind == 3:\n",
    "        for i in range(map_x.shape[0]):\n",
    "            map_x[i,:] = [map_x.shape[1]-x for x in range(map_x.shape[1])]\n",
    "        for j in range(map_y.shape[1]):\n",
    "            map_y[:,j] = [map_y.shape[0]-y for y in range(map_y.shape[0])]\n",
    "\n",
    "src = cv.imread('D:/Projects/CV2/Image-Processing/Basic/dog.jpg')\n",
    "\n",
    "map_x = np.zeros((src.shape[0], src.shape[1]), dtype=np.float32)\n",
    "map_y = np.zeros((src.shape[0], src.shape[1]), dtype=np.float32)\n",
    "\n",
    "window_name = 'Remap demo'\n",
    "cv.namedWindow(window_name)\n",
    "\n",
    "ind = 0\n",
    "while True:\n",
    "    update_map(ind, map_x, map_y)\n",
    "    ind = (ind + 1) % 4\n",
    "    dst = cv.remap(src, map_x, map_y, cv.INTER_LINEAR)\n",
    "    cv.imshow(window_name, dst)\n",
    "    c = cv.waitKey(1000)\n",
    "    if c == 27:\n",
    "        break"
   ]
  },
  {
   "cell_type": "code",
   "execution_count": null,
   "id": "67b3ce35",
   "metadata": {},
   "outputs": [],
   "source": [
    "#інверсія по обох осях\n",
    "from __future__ import print_function\n",
    "import cv2 as cv\n",
    "\n",
    "src = cv.imread('D:/Projects/CV2/Image-Processing/Basic/dog.jpg')\n",
    "\n",
    "for i in range(map_x.shape[0]):\n",
    "            map_x[i,:] = [map_x.shape[1]-x for x in range(map_x.shape[1])]\n",
    "for j in range(map_y.shape[1]):\n",
    "            map_y[:,j] = [map_y.shape[0]-y for y in range(map_y.shape[0])]\n",
    "\n",
    "remapped = cv.remap(src, map_x, map_y, interpolation=cv.INTER_LINEAR)\n",
    "\n",
    "window_name = 'Remap demo'\n",
    "cv.imshow(window_name, remapped)\n",
    "cv.waitKey(0)\n",
    "cv.destroyAllWindows()\n"
   ]
  },
  {
   "cell_type": "code",
   "execution_count": null,
   "id": "bf05c41f",
   "metadata": {},
   "outputs": [],
   "source": [
    "#інверсія значення у\n",
    "from __future__ import print_function\n",
    "import cv2 as cv\n",
    "\n",
    "src = cv.imread('D:/Projects/CV2/Image-Processing/Basic/dog.jpg')\n",
    "\n",
    "for i in range(map_x.shape[0]):\n",
    "            map_x[i,:] = [map_x.shape[0]-x for x in range(map_y.shape[0])]\n",
    "            map_x[i,:] = [x for x in range(map_x.shape[1])]\n",
    "for j in range(map_y.shape[1]):\n",
    "            map_y[:,j] = [map_y.shape[0]-y for y in range(map_y.shape[0])]\n",
    "\n",
    "remapped = cv.remap(src, map_x, map_y, interpolation=cv.INTER_LINEAR)\n",
    "\n",
    "window_name = 'Remap demo'\n",
    "cv.imshow(window_name, remapped)\n",
    "cv.waitKey(0)\n",
    "cv.destroyAllWindows()"
   ]
  },
  {
   "cell_type": "code",
   "execution_count": 21,
   "id": "04b6464f",
   "metadata": {},
   "outputs": [],
   "source": [
    "#інверсія х\n",
    "from __future__ import print_function\n",
    "import cv2 as cv\n",
    "\n",
    "src = cv.imread('D:/Projects/CV2/Image-Processing/Basic/dog.jpg')\n",
    "\n",
    "for i in range(map_x.shape[0]):\n",
    "            map_x[i,:] = [map_x.shape[1]-x for x in range(map_x.shape[1])]\n",
    "for j in range(map_y.shape[1]):\n",
    "            map_y[:,j] = [y for y in range(map_y.shape[0])]\n",
    "\n",
    "remapped = cv.remap(src, map_x, map_y, interpolation=cv.INTER_LINEAR)\n",
    "\n",
    "window_name = 'Remap demo'\n",
    "cv.imshow(window_name, remapped)\n",
    "cv.waitKey(0)\n",
    "cv.destroyAllWindows()"
   ]
  }
 ],
 "metadata": {
  "kernelspec": {
   "display_name": "Python 3",
   "language": "python",
   "name": "python3"
  },
  "language_info": {
   "codemirror_mode": {
    "name": "ipython",
    "version": 3
   },
   "file_extension": ".py",
   "mimetype": "text/x-python",
   "name": "python",
   "nbconvert_exporter": "python",
   "pygments_lexer": "ipython3",
   "version": "3.13.2"
  }
 },
 "nbformat": 4,
 "nbformat_minor": 5
}
