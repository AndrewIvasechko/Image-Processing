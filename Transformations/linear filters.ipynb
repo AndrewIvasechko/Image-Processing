{
 "cells": [
  {
   "cell_type": "code",
   "execution_count": null,
   "id": "b1735c94",
   "metadata": {},
   "outputs": [
    {
     "ename": "KeyboardInterrupt",
     "evalue": "",
     "output_type": "error",
     "traceback": [
      "\u001b[31m---------------------------------------------------------------------------\u001b[39m",
      "\u001b[31mKeyboardInterrupt\u001b[39m                         Traceback (most recent call last)",
      "\u001b[36mCell\u001b[39m\u001b[36m \u001b[39m\u001b[32mIn[20]\u001b[39m\u001b[32m, line 50\u001b[39m\n\u001b[32m     47\u001b[39m     \u001b[38;5;28;01mreturn\u001b[39;00m \u001b[32m0\u001b[39m\n\u001b[32m     49\u001b[39m \u001b[38;5;28;01mif\u001b[39;00m \u001b[34m__name__\u001b[39m == \u001b[33m\"\u001b[39m\u001b[33m__main__\u001b[39m\u001b[33m\"\u001b[39m:\n\u001b[32m---> \u001b[39m\u001b[32m50\u001b[39m     \u001b[43mmain\u001b[49m\u001b[43m(\u001b[49m\u001b[43m[\u001b[49m\u001b[33;43m'\u001b[39;49m\u001b[33;43mD:/Projects/CV2/Image-Processing/Basic/dog.jpg\u001b[39;49m\u001b[33;43m'\u001b[39;49m\u001b[43m]\u001b[49m\u001b[43m)\u001b[49m\n\u001b[32m     51\u001b[39m cv.destroyAllWindows()\n",
      "\u001b[36mCell\u001b[39m\u001b[36m \u001b[39m\u001b[32mIn[20]\u001b[39m\u001b[32m, line 41\u001b[39m, in \u001b[36mmain\u001b[39m\u001b[34m(argv)\u001b[39m\n\u001b[32m     37\u001b[39m dst = cv.filter2D(src, ddepth, kernel)\n\u001b[32m     39\u001b[39m cv.imshow(window_name, dst)\n\u001b[32m---> \u001b[39m\u001b[32m41\u001b[39m c = \u001b[43mcv\u001b[49m\u001b[43m.\u001b[49m\u001b[43mwaitKey\u001b[49m\u001b[43m(\u001b[49m\u001b[32;43m500\u001b[39;49m\u001b[43m)\u001b[49m\n\u001b[32m     42\u001b[39m \u001b[38;5;28;01mif\u001b[39;00m c == \u001b[38;5;28mord\u001b[39m(\u001b[33m'\u001b[39m\u001b[33mq\u001b[39m\u001b[33m'\u001b[39m):\n\u001b[32m     43\u001b[39m     \u001b[38;5;28;01mbreak\u001b[39;00m\n",
      "\u001b[31mKeyboardInterrupt\u001b[39m: "
     ]
    },
    {
     "ename": "",
     "evalue": "",
     "output_type": "error",
     "traceback": [
      "\u001b[1;31mThe Kernel crashed while executing code in the current cell or a previous cell. \n",
      "\u001b[1;31mPlease review the code in the cell(s) to identify a possible cause of the failure. \n",
      "\u001b[1;31mClick <a href='https://aka.ms/vscodeJupyterKernelCrash'>here</a> for more info. \n",
      "\u001b[1;31mView Jupyter <a href='command:jupyter.viewOutput'>log</a> for further details."
     ]
    }
   ],
   "source": [
    "\"\"\"\n",
    "@file filter2D.py\n",
    "@brief Sample code that shows how to implement your own linear filters by using filter2D function\n",
    "\"\"\"\n",
    "import sys\n",
    "import cv2 as cv\n",
    "import numpy as np\n",
    "\n",
    "def main(argv):\n",
    "    window_name = 'filter2D Demo'\n",
    "\n",
    "    imageName = argv[0] if len(argv) > 0 else 'lena.jpg'\n",
    "\n",
    "    # Loads an image\n",
    "    src = cv.imread(cv.samples.findFile(imageName), cv.IMREAD_COLOR)\n",
    "\n",
    "    # Check if image is loaded fine\n",
    "    if src is None:\n",
    "        print ('Error opening image!')\n",
    "        print ('Usage: filter2D.py [image_name -- default lena.jpg] \\n')\n",
    "        return -1\n",
    "\n",
    "    ddepth = -1\n",
    "\n",
    "    ind = 0\n",
    "    while True:\n",
    "\n",
    "        #kernel_size = 3 + 2 * (ind % 5)\n",
    "        #kernel = np.ones((kernel_size, kernel_size), dtype=np.float32)\n",
    "        kernel = np.array([\n",
    "                [-1, -1, 0],\n",
    "                [-1, 5, -1],\n",
    "                [0, 1, 0]\n",
    "            ], dtype=np.float32)\n",
    "        #kernel /= (kernel_size * kernel_size)\n",
    "\n",
    "        dst = cv.filter2D(src, ddepth, kernel)\n",
    "\n",
    "        cv.imshow(window_name, dst)\n",
    "\n",
    "        c = cv.waitKey(500)\n",
    "        if c == ord('q'):\n",
    "            break\n",
    "\n",
    "        ind += 1\n",
    "\n",
    "    return 0\n",
    "\n",
    "if __name__ == \"__main__\":\n",
    "    main(['D:/Projects/CV2/Image-Processing/Basic/dog.jpg'])\n",
    "cv.destroyAllWindows()"
   ]
  }
 ],
 "metadata": {
  "kernelspec": {
   "display_name": "Python 3",
   "language": "python",
   "name": "python3"
  },
  "language_info": {
   "codemirror_mode": {
    "name": "ipython",
    "version": 3
   },
   "file_extension": ".py",
   "mimetype": "text/x-python",
   "name": "python",
   "nbconvert_exporter": "python",
   "pygments_lexer": "ipython3",
   "version": "3.13.2"
  }
 },
 "nbformat": 4,
 "nbformat_minor": 5
}
