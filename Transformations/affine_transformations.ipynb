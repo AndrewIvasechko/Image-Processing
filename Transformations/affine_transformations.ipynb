{
 "cells": [
  {
   "cell_type": "code",
   "execution_count": 1,
   "id": "418f6d50",
   "metadata": {},
   "outputs": [
    {
     "data": {
      "text/plain": [
       "-1"
      ]
     },
     "execution_count": 1,
     "metadata": {},
     "output_type": "execute_result"
    }
   ],
   "source": [
    "from __future__ import print_function\n",
    "import cv2 as cv\n",
    "import numpy as np\n",
    "\n",
    "src = cv.imread('D:/Projects/CV2/Image-Processing/Basic/dog.jpg')\n",
    "\n",
    "srcTri = np.array( [[0, 0], [src.shape[1] - 1, 0], [0, src.shape[0] - 1]] ).astype(np.float32)\n",
    "dstTri = np.array( [[0, src.shape[1]*0.33], [src.shape[1]*0.85, src.shape[0]*0.25], [src.shape[1]*0.15, src.shape[0]*0.7]] ).astype(np.float32)\n",
    "\n",
    "warp_mat = cv.getAffineTransform(srcTri, dstTri)\n",
    "\n",
    "warp_dst = cv.warpAffine(src, warp_mat, (src.shape[1], src.shape[0]))\n",
    "\n",
    "# Rotating the image after Warp\n",
    "\n",
    "center = (warp_dst.shape[1]//2, warp_dst.shape[0]//2)\n",
    "angle = -50\n",
    "scale = 0.6\n",
    "\n",
    "rot_mat = cv.getRotationMatrix2D( center, angle, scale )\n",
    "\n",
    "warp_rotate_dst = cv.warpAffine(warp_dst, rot_mat, (warp_dst.shape[1], warp_dst.shape[0]))\n",
    "\n",
    "cv.imshow('Source image', src)\n",
    "cv.imshow('Warp', warp_dst)\n",
    "cv.imshow('Warp + Rotate', warp_rotate_dst)\n",
    "\n",
    "cv.waitKey()"
   ]
  },
  {
   "cell_type": "code",
   "execution_count": 6,
   "id": "15701215",
   "metadata": {},
   "outputs": [],
   "source": [
    "from __future__ import print_function\n",
    "import cv2 as cv\n",
    "import numpy as np\n",
    "\n",
    "src = cv.imread('D:/Projects/CV2/Image-Processing/Basic/dog.jpg')\n",
    "\n",
    "srcTri = np.array( [[0, 0], [src.shape[1] - 1, 0], [0, src.shape[0] - 1]] ).astype(np.float32)\n",
    "dstTri = np.array( [[0, src.shape[1]*0.2], [src.shape[1]*0.9, src.shape[0]*0.5], [src.shape[1]*0.15, src.shape[0]*0.8]] ).astype(np.float32)\n",
    "\n",
    "warp_mat = cv.getAffineTransform(srcTri, dstTri)\n",
    "\n",
    "warp_dst = cv.warpAffine(src, warp_mat, (src.shape[1], src.shape[0]))\n",
    "\n",
    "cv.imshow('Warp', warp_dst)\n",
    "cv.waitKey()\n",
    "cv.destroyAllWindows()"
   ]
  },
  {
   "cell_type": "code",
   "execution_count": 17,
   "id": "feb3cd0e",
   "metadata": {},
   "outputs": [],
   "source": [
    "from __future__ import print_function\n",
    "import cv2 as cv\n",
    "import numpy as np\n",
    "\n",
    "src = cv.imread('D:/Projects/CV2/Image-Processing/Basic/dog.jpg')\n",
    "(h, w) = src.shape[:2]\n",
    "\n",
    "center = (h//2, w//2)\n",
    "angle = -90\n",
    "scale = 0.5\n",
    "\n",
    "rot_mat = cv.getRotationMatrix2D(center, angle, scale )\n",
    "\n",
    "rotared_img = cv.warpAffine(src, rot_mat,(w,h))\n",
    "\n",
    "cv.imshow('Warp', rotared_img)\n",
    "cv.waitKey()\n",
    "cv.destroyAllWindows()"
   ]
  }
 ],
 "metadata": {
  "kernelspec": {
   "display_name": "Python 3",
   "language": "python",
   "name": "python3"
  },
  "language_info": {
   "codemirror_mode": {
    "name": "ipython",
    "version": 3
   },
   "file_extension": ".py",
   "mimetype": "text/x-python",
   "name": "python",
   "nbconvert_exporter": "python",
   "pygments_lexer": "ipython3",
   "version": "3.13.2"
  }
 },
 "nbformat": 4,
 "nbformat_minor": 5
}
